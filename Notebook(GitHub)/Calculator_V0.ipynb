{
 "cells": [
  {
   "cell_type": "code",
   "execution_count": 46,
   "id": "62c96e03-8d81-4d0d-a918-e953cb08271b",
   "metadata": {},
   "outputs": [
    {
     "name": "stdout",
     "output_type": "stream",
     "text": [
      "Basic Calculator on Python\n"
     ]
    },
    {
     "name": "stdin",
     "output_type": "stream",
     "text": [
      "What operation do you want to do?(sum, deduct, mult, div):  div\n",
      "First Number:  10\n",
      "Second Number:  2\n"
     ]
    },
    {
     "name": "stdout",
     "output_type": "stream",
     "text": [
      "Result:  5.0\n"
     ]
    }
   ],
   "source": [
    "# First Try\n",
    "\n",
    "# Functions\n",
    "def sum(a,b):\n",
    "    return a+b\n",
    "\n",
    "def deduct(a,b):\n",
    "    return a-b\n",
    "\n",
    "def mult(a,b):\n",
    "    return a*b\n",
    "\n",
    "def div(a,b):\n",
    "    if b != 0:\n",
    "        return a/b\n",
    "    else:\n",
    "        return \"Error\"\n",
    "\n",
    "# Basic Interface\n",
    "print(\"Basic Calculator on Python\")\n",
    "op = input(\"What operation do you want to do?(sum, deduct, mult, div): \")\n",
    "\n",
    "a = float(input(\"First Number: \"))\n",
    "b = float(input(\"Second Number: \"))\n",
    "\n",
    "if op == \"sum\":\n",
    "    print(\"Result: \", sum(a,b))\n",
    "elif op == \"deduct\":\n",
    "    print(\"Result: \", deduct(a,b))\n",
    "elif op == \"mult\":\n",
    "    print(\"Result: \", mult(a,b))\n",
    "elif op == \"div\": \n",
    "    print(\"Result: \", div(a,b))\n",
    "else:\n",
    "    \n",
    "    print(\"Invalid\")"
   ]
  },
  {
   "cell_type": "code",
   "execution_count": null,
   "id": "2a1cc45c-0331-49a5-bdb5-e463c5e4813c",
   "metadata": {},
   "outputs": [],
   "source": []
  }
 ],
 "metadata": {
  "kernelspec": {
   "display_name": "Python [conda env:base] *",
   "language": "python",
   "name": "conda-base-py"
  },
  "language_info": {
   "codemirror_mode": {
    "name": "ipython",
    "version": 3
   },
   "file_extension": ".py",
   "mimetype": "text/x-python",
   "name": "python",
   "nbconvert_exporter": "python",
   "pygments_lexer": "ipython3",
   "version": "3.13.5"
  }
 },
 "nbformat": 4,
 "nbformat_minor": 5
}
