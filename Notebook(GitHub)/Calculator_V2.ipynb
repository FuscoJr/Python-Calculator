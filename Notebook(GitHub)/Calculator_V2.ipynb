{
 "cells": [
  {
   "cell_type": "code",
   "execution_count": 2,
   "id": "534b0caa-cf64-48ab-842b-e795461c5f3c",
   "metadata": {},
   "outputs": [
    {
     "name": "stdout",
     "output_type": "stream",
     "text": [
      "Basic Calculator on Python (type 'Q', 'Quit' or 'EXIT' any time to quit)\n"
     ]
    }
   ],
   "source": [
    "# My best Try so far\n",
    "\n",
    "# Functions 2.5\n",
    "def get_number(prompt):\n",
    "    \"\"\"Ask number; accept 'Q/QUIT/EXIT' to esc.\"\"\"\n",
    "    while True:\n",
    "        user_input = input(prompt).strip()\n",
    "        if user_input.upper() in (\"Q\", \"QUIT\", \"EXIT\"):\n",
    "            return None\n",
    "        try:\n",
    "            return float(user_input)\n",
    "        except ValueError:\n",
    "            print(\"Not a valid number. Try again (or 'Q', 'QUIT', 'EXIT' to quit)\")\n",
    "\n",
    "def bye():\n",
    "    print(\"Goodbye!\")\n",
    "\n",
    "def get_op():\n",
    "    \"\"\"Ask for valid Operator\"\"\"\n",
    "    valid = {\"+\", \"-\", \"*\", \"/\"}\n",
    "    while True:\n",
    "        op = input(\"What operation do you want to do? (+, -, *, /): \").strip()\n",
    "        if op in valid:\n",
    "            return op\n",
    "        print(\"Invalid Operator. Use one of: + - * /\")\n",
    "print(\"Basic Calculator on Python (type 'Q', 'Quit' or 'EXIT' any time to quit)\")"
   ]
  },
  {
   "cell_type": "code",
   "execution_count": 3,
   "id": "8520a326-0e73-41fb-aad3-cb198f015ddb",
   "metadata": {},
   "outputs": [
    {
     "name": "stdin",
     "output_type": "stream",
     "text": [
      "First Number:  quit\n"
     ]
    },
    {
     "name": "stdout",
     "output_type": "stream",
     "text": [
      "Goodbye!\n"
     ]
    }
   ],
   "source": [
    "# Interface for Calculator Ver. 2.5\n",
    "\n",
    "a = get_number(\"First Number: \")\n",
    "if a is None:\n",
    "    bye()\n",
    "else:\n",
    "    while True:\n",
    "        op = get_op()\n",
    "        b = get_number(\"Second Number: \")\n",
    "        if b is None:\n",
    "            bye()\n",
    "            break\n",
    "\n",
    "        result = calculate(a, b, op)\n",
    "        print(\"Result:\", result)\n",
    "\n",
    "        choice = input(\"Continue with this result [C], start new [N], or quit [Q]? \").strip().upper()\n",
    "        if choice == \"C\":\n",
    "            if isinstance(result, (int, float)):\n",
    "                a = result\n",
    "            else:\n",
    "                print(\"Can not continue with a non-numeric result. Starting new. \")\n",
    "                a = get_number(\"First Number: \")\n",
    "                if a is None:\n",
    "                    bye()\n",
    "                    break\n",
    "        elif choice == \"N\":\n",
    "            a = get_number(\"First Number: \")\n",
    "            if a is None:\n",
    "                bye()\n",
    "                break\n",
    "        else:\n",
    "            bye()\n",
    "            break"
   ]
  }
 ],
 "metadata": {
  "kernelspec": {
   "display_name": "Python [conda env:base] *",
   "language": "python",
   "name": "conda-base-py"
  },
  "language_info": {
   "codemirror_mode": {
    "name": "ipython",
    "version": 3
   },
   "file_extension": ".py",
   "mimetype": "text/x-python",
   "name": "python",
   "nbconvert_exporter": "python",
   "pygments_lexer": "ipython3",
   "version": "3.13.5"
  }
 },
 "nbformat": 4,
 "nbformat_minor": 5
}
