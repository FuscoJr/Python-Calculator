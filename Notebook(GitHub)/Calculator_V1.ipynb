{
 "cells": [
  {
   "cell_type": "code",
   "execution_count": 1,
   "id": "56f95dc7-cb00-4915-97db-5704679f3328",
   "metadata": {},
   "outputs": [],
   "source": [
    "# Still second Try with better Functions\n",
    "\n",
    "# Functions 2.0\n",
    "def calculate(a,b, operator):\n",
    "    if operator == \"+\":\n",
    "        return a+b\n",
    "    elif operator == \"-\":\n",
    "        return a-b\n",
    "    elif operator == \"*\":\n",
    "        return a*b\n",
    "    elif operator == \"/\":\n",
    "        return a/b if b != 0 else \"Error: division by zero\"\n",
    "    else:\n",
    "        return \"Invalid operation\""
   ]
  },
  {
   "cell_type": "code",
   "execution_count": 2,
   "id": "9ec552f5-577e-4865-b04f-8450144dddde",
   "metadata": {},
   "outputs": [
    {
     "name": "stdout",
     "output_type": "stream",
     "text": [
      "Basic Calculator on Python\n"
     ]
    },
    {
     "name": "stdin",
     "output_type": "stream",
     "text": [
      "First Number:  5\n",
      "What operation do you want to do?(+, -, *, /):  +\n",
      "Second Number:  4\n"
     ]
    },
    {
     "name": "stdout",
     "output_type": "stream",
     "text": [
      "Result: 9.0\n"
     ]
    },
    {
     "name": "stdin",
     "output_type": "stream",
     "text": [
      "Do you want to continue with this result? (Y/N):  n\n",
      "Do you want to calculate again? (Y/N):  n\n"
     ]
    },
    {
     "name": "stdout",
     "output_type": "stream",
     "text": [
      "Goodbye!\n"
     ]
    }
   ],
   "source": [
    "# First Try \n",
    "\n",
    "# Basic Interface\n",
    "print(\"Basic Calculator on Python\")\n",
    "a = float(input(\"First Number: \"))\n",
    "\n",
    "\n",
    "while True:\n",
    "    \n",
    "    op = input(\"What operation do you want to do?(+, -, *, /): \")\n",
    "    b = float(input(\"Second Number: \"))\n",
    "\n",
    "    result = calculate(a, b, op)\n",
    "    print(\"Result:\", result)\n",
    "\n",
    "    choice = input(\"Do you want to continue with this result? (Y/N): \").upper()\n",
    "    if choice == \"Y\":\n",
    "        a = result\n",
    "    if choice != \"Y\":\n",
    "        again = input(\"Do you want to calculate again? (Y/N): \").upper()\n",
    "        if again != \"Y\":\n",
    "            print(\"Goodbye!\")\n",
    "            break"
   ]
  }
 ],
 "metadata": {
  "kernelspec": {
   "display_name": "Python [conda env:base] *",
   "language": "python",
   "name": "conda-base-py"
  },
  "language_info": {
   "codemirror_mode": {
    "name": "ipython",
    "version": 3
   },
   "file_extension": ".py",
   "mimetype": "text/x-python",
   "name": "python",
   "nbconvert_exporter": "python",
   "pygments_lexer": "ipython3",
   "version": "3.13.5"
  }
 },
 "nbformat": 4,
 "nbformat_minor": 5
}
